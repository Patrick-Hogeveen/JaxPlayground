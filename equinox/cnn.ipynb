{
 "cells": [
  {
   "cell_type": "code",
   "execution_count": 1,
   "metadata": {},
   "outputs": [],
   "source": [
    "import jax\n",
    "import jax.numpy as jnp\n",
    "import optax  # https://github.com/deepmind/optax\n",
    "import torch  # https://pytorch.org\n",
    "import torchvision  # https://pytorch.org\n",
    "from jaxtyping import Array, Float, Int, PyTree  # https://github.com/google/jaxtyping\n",
    "import functools as ft\n",
    "\n",
    "import equinox as eqx"
   ]
  },
  {
   "cell_type": "code",
   "execution_count": 2,
   "metadata": {},
   "outputs": [],
   "source": [
    "# Hyperparameters\n",
    "\n",
    "BATCH_SIZE = 64\n",
    "LEARNING_RATE = 3e-4\n",
    "EPOCHS = 20\n",
    "PRINT_EVERY = 3\n",
    "SEED = 5678\n",
    "\n",
    "key = jax.random.PRNGKey(SEED)"
   ]
  },
  {
   "cell_type": "code",
   "execution_count": 3,
   "metadata": {},
   "outputs": [],
   "source": [
    "normalise_data = torchvision.transforms.Compose(\n",
    "    [\n",
    "        torchvision.transforms.ToTensor(),\n",
    "        torchvision.transforms.Normalize((0.5,), (0.5,)),\n",
    "    ]\n",
    ")\n",
    "\n",
    "train_dataset = torchvision.datasets.EMNIST(\n",
    "    '/tmp/emnist/',\n",
    "    split=\"balanced\",\n",
    "    train=True,\n",
    "    download=True,\n",
    "    transform=normalise_data,\n",
    ")\n",
    "test_dataset = torchvision.datasets.EMNIST(\n",
    "    '/tmp/emnist/',\n",
    "    split=\"balanced\",\n",
    "    train=False,\n",
    "    download=True,\n",
    "    transform=normalise_data,\n",
    ")\n",
    "trainloader = torch.utils.data.DataLoader(\n",
    "    train_dataset, batch_size=BATCH_SIZE, shuffle=True\n",
    ")\n",
    "testloader = torch.utils.data.DataLoader(\n",
    "    test_dataset, batch_size=BATCH_SIZE, shuffle=True\n",
    ")"
   ]
  },
  {
   "cell_type": "code",
   "execution_count": 4,
   "metadata": {},
   "outputs": [
    {
     "name": "stdout",
     "output_type": "stream",
     "text": [
      "(64, 1, 28, 28)\n",
      "(64,)\n",
      "[ 9 37 36  4 21 27 14 38 43 45 22 26  6 33 39 38 31 10 42 22  5 43 38 21\n",
      "  5 15 23 32  6 42 36  3 33 31 24 25  2 41 18 37 43 39  4 31 11 30 15 32\n",
      "  1 22 22  8 10  6 34 13 44 11 37 36 33  4 29 21]\n"
     ]
    }
   ],
   "source": [
    "#checking data\n",
    "dummy_x, dummy_y = next(iter(trainloader))\n",
    "dummy_x = dummy_x.numpy()\n",
    "dummy_y = dummy_y.numpy()\n",
    "print(dummy_x.shape)  # 64x1x28x28\n",
    "print(dummy_y.shape)  # 64\n",
    "print(dummy_y)"
   ]
  },
  {
   "cell_type": "code",
   "execution_count": 5,
   "metadata": {},
   "outputs": [],
   "source": [
    "class CNN(eqx.Module):\n",
    "    layers: list\n",
    "\n",
    "    def __init__(self, key):\n",
    "        keys = jax.random.split(key,4)\n",
    "\n",
    "        self. layers = [\n",
    "            eqx.nn.Conv2d(1,3, kernel_size=4, key=keys[0]),\n",
    "            eqx.nn.MaxPool2d(kernel_size=2),\n",
    "            jax.nn.relu,\n",
    "            jnp.ravel,\n",
    "            eqx.nn.Linear(1728, 512, key=keys[1]),\n",
    "            jax.nn.sigmoid,#relu?\n",
    "            eqx.nn.Linear(512,64, key=keys[2]),\n",
    "            jax.nn.relu,\n",
    "            eqx.nn.Linear(64,47, key=keys[3]),\n",
    "            jax.nn.log_softmax,\n",
    "        ]\n",
    "\n",
    "    def __call__(self, x: Float[Array, \"1 28 28\"]) -> Float[Array, \"10\"]:\n",
    "        for layer in self.layers:\n",
    "            x = layer(x)\n",
    "        return x\n",
    "    \n",
    "key, subkey = jax.random.split(key, 2)\n",
    "model = CNN(subkey)"
   ]
  },
  {
   "cell_type": "code",
   "execution_count": 6,
   "metadata": {},
   "outputs": [
    {
     "name": "stdout",
     "output_type": "stream",
     "text": [
      "()\n",
      "(64, 47)\n"
     ]
    }
   ],
   "source": [
    "@jax.jit\n",
    "def cross_entropy(\n",
    "    y: Int[Array, \"batch\"], pred_y: Float[Array, \"batch 10\"]\n",
    ") -> Float[Array, \"\"]:\n",
    "    #y are labels  and pred_y is our models prediction\n",
    "    pred_y = jnp.take_along_axis(pred_y, jnp.expand_dims(y, 1), axis=1)\n",
    "    return -jnp.mean(pred_y)\n",
    "\n",
    "\n",
    "@eqx.filter_jit\n",
    "def loss(\n",
    "    model: CNN, x: Float[Array, \"batch 1 28 28\"], y: Int[Array, \" batch\"]\n",
    ") -> Float[Array, \"\"]:\n",
    "    #Input of (BATCH_SIZE, 1, 28, 28) we use vmap over the batch axis \n",
    "    pred_y = jax.vmap(model)(x)\n",
    "    return cross_entropy(y, pred_y)\n",
    "\n",
    "\n",
    "# Example loss\n",
    "loss_value = loss(model, dummy_x, dummy_y)\n",
    "print(loss_value.shape)  # scalar loss\n",
    "# Example inference\n",
    "output = jax.vmap(model)(dummy_x)\n",
    "print(output.shape)  # batch of predictions"
   ]
  },
  {
   "cell_type": "code",
   "execution_count": 7,
   "metadata": {},
   "outputs": [
    {
     "name": "stdout",
     "output_type": "stream",
     "text": [
      "3.8543496\n"
     ]
    }
   ],
   "source": [
    "value, grads = eqx.filter_value_and_grad(loss)(model, dummy_x, dummy_y)\n",
    "print(value)"
   ]
  },
  {
   "cell_type": "code",
   "execution_count": 8,
   "metadata": {},
   "outputs": [],
   "source": [
    "@eqx.filter_jit\n",
    "def compute_accuracy(\n",
    "    model: CNN, x: Float[Array, \"batch 1 28 28\"], y: Int[Array, \" batch\"]\n",
    ") -> Float[Array, \"\"]:\n",
    "    #Takezs inpt and the current model and computes average accuracy on batch\n",
    "    pred_y = jax.vmap(model)(x)\n",
    "    pred_y = jnp.argmax(pred_y, axis=1)\n",
    "    return jnp.mean(y == pred_y)"
   ]
  },
  {
   "cell_type": "code",
   "execution_count": 9,
   "metadata": {},
   "outputs": [],
   "source": [
    "def eval(\n",
    "        model: CNN, testloader: torch.utils.data.DataLoader\n",
    "):\n",
    "    avg_loss = 0\n",
    "    avg_acc = 0\n",
    "    for x, y in testloader:\n",
    "        x = x.numpy()\n",
    "        y = y.numpy()\n",
    "        #operations in these functions are jit'd so they are fast\n",
    "        avg_loss += loss(model, x, y)\n",
    "        avg_acc += compute_accuracy(model, x, y)\n",
    "\n",
    "    return avg_loss / len(testloader), avg_acc / len(testloader)"
   ]
  },
  {
   "cell_type": "code",
   "execution_count": 10,
   "metadata": {},
   "outputs": [
    {
     "data": {
      "text/plain": [
       "(Array(3.8580563, dtype=float32), Array(0.02127622, dtype=float32))"
      ]
     },
     "execution_count": 10,
     "metadata": {},
     "output_type": "execute_result"
    }
   ],
   "source": [
    "eval(model, testloader)"
   ]
  },
  {
   "cell_type": "code",
   "execution_count": 11,
   "metadata": {},
   "outputs": [],
   "source": [
    "optim = optax.adamw(LEARNING_RATE)"
   ]
  },
  {
   "cell_type": "code",
   "execution_count": 12,
   "metadata": {},
   "outputs": [],
   "source": [
    "def train(\n",
    "        model: CNN,\n",
    "        trainloader: torch.utils.data.DataLoader,\n",
    "        testloader: torch.utils.data.DataLoader,\n",
    "        optim: optax.GradientTransformation,\n",
    "        steps: int,\n",
    "        print_every: int,\n",
    ") -> CNN:\n",
    "    #filter arrays from non-updatable model layers\n",
    "    opt_state = optim.init(eqx.filter(model, eqx.is_array))\n",
    "\n",
    "    @eqx.filter_jit\n",
    "    def make_step(\n",
    "        model: CNN,\n",
    "        opt_state: PyTree,\n",
    "        x: Float[Array, \"batch 1 28 28\"],\n",
    "        y: Int[Array, \" batch\"],\n",
    "    ):\n",
    "        loss_value, grads = eqx.filter_value_and_grad(loss)(model, x, y)\n",
    "        updates, opt_state = optim.update(grads, opt_state, model)\n",
    "        model = eqx.apply_updates(model, updates)\n",
    "        return model, opt_state, loss_value\n",
    "    \n",
    "    def infinite_trainloader():\n",
    "        while True:\n",
    "            yield from trainloader\n",
    "    for epoch in range(steps):\n",
    "        for (x, y) in  trainloader:\n",
    "            x = x.numpy()\n",
    "            y = y.numpy()\n",
    "\n",
    "            model, opt_state, train_loss = make_step(model, opt_state, x, y)\n",
    "        if (epoch % print_every) == 0 or (steps == steps - 1):\n",
    "            test_loss, test_accuracy = eval(model, testloader)\n",
    "            print(\n",
    "                f\"{epoch}=, train_loss={train_loss.item()}, \"\n",
    "                f\"test_loss={test_loss.item()}, test_accuracy={test_accuracy.item()}\"\n",
    "            )\n",
    "    return model"
   ]
  },
  {
   "cell_type": "code",
   "execution_count": 13,
   "metadata": {},
   "outputs": [
    {
     "name": "stdout",
     "output_type": "stream",
     "text": [
      "0=, train_loss=0.6176803708076477, test_loss=0.9373813271522522, test_accuracy=0.7220805287361145\n",
      "3=, train_loss=0.39206814765930176, test_loss=0.5857856869697571, test_accuracy=0.8142006397247314\n",
      "6=, train_loss=0.7959734201431274, test_loss=0.5188784599304199, test_accuracy=0.8302153944969177\n",
      "9=, train_loss=0.4948487877845764, test_loss=0.484325110912323, test_accuracy=0.8411812782287598\n",
      "12=, train_loss=0.7226671576499939, test_loss=0.4782400131225586, test_accuracy=0.8408269286155701\n",
      "15=, train_loss=0.2686757445335388, test_loss=0.49602413177490234, test_accuracy=0.8379747271537781\n",
      "18=, train_loss=0.1795247495174408, test_loss=0.46937382221221924, test_accuracy=0.8453798294067383\n"
     ]
    }
   ],
   "source": [
    "model = train(model, trainloader, testloader, optim, EPOCHS, PRINT_EVERY)"
   ]
  },
  {
   "cell_type": "code",
   "execution_count": 14,
   "metadata": {},
   "outputs": [
    {
     "name": "stdout",
     "output_type": "stream",
     "text": [
      "label 3, prediction 3\n",
      "label 30, prediction 30\n",
      "label 23, prediction 23\n",
      "label 29, prediction 29\n",
      "label 18, prediction 18\n",
      "label 4, prediction 4\n",
      "label 18, prediction 15\n",
      "label 8, prediction 8\n",
      "label 8, prediction 8\n",
      "label 26, prediction 0\n",
      "label 23, prediction 23\n",
      "label 10, prediction 10\n",
      "label 43, prediction 23\n",
      "label 33, prediction 33\n",
      "label 2, prediction 2\n",
      "label 24, prediction 0\n",
      "label 12, prediction 12\n",
      "label 0, prediction 24\n",
      "label 31, prediction 31\n",
      "label 41, prediction 41\n"
     ]
    },
    {
     "data": {
      "image/png": "[encoded data removed]",
      "text/plain": [
       "<Figure size 1000x700 with 20 Axes>"
      ]
     },
     "metadata": {},
     "output_type": "display_data"
    }
   ],
   "source": [
    "import matplotlib.pyplot as plt\n",
    "fig = plt.figure(figsize=(10,7))\n",
    "rows = 1\n",
    "columns= 20\n",
    "\n",
    "for i in range(20):\n",
    "    fig.add_subplot(rows,columns,i+1)\n",
    "    img_index = i\n",
    "    images, labels = next(iter(trainloader))\n",
    "    preds = model(images[img_index].numpy())\n",
    "    plt.imshow(images[img_index].reshape(28,28), cmap='gray')\n",
    "    print(f\"label {labels[img_index]}, prediction {jnp.argmax(preds)}\")"
   ]
  }
 ],
 "metadata": {
  "kernelspec": {
   "display_name": "Python 3",
   "language": "python",
   "name": "python3"
  },
  "language_info": {
   "codemirror_mode": {
    "name": "ipython",
    "version": 3
   },
   "file_extension": ".py",
   "mimetype": "text/x-python",
   "name": "python",
   "nbconvert_exporter": "python",
   "pygments_lexer": "ipython3",
   "version": "3.10.12"
  }
 },
 "nbformat": 4,
 "nbformat_minor": 2
}
